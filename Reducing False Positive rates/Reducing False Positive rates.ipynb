{
 "cells": [
  {
   "cell_type": "markdown",
   "metadata": {
    "collapsed": true
   },
   "source": [
    "# CIS 731 - Assignment 2\n",
    "# Dharanidharan Ramasamy Karuppanasamy\n",
    "# SUID : 320028178"
   ]
  },
  {
   "cell_type": "code",
   "execution_count": null,
   "metadata": {
    "collapsed": true
   },
   "outputs": [],
   "source": [
    "import numpy as np\n",
    "import pandas as pd\n",
    "import seaborn as sns\n",
    "import matplotlib.pyplot as plt\n",
    "%matplotlib inline\n",
    "from sklearn.preprocessing import OneHotEncoder\n",
    "from sklearn.preprocessing import StandardScaler"
   ]
  },
  {
   "cell_type": "code",
   "execution_count": 17,
   "metadata": {
    "collapsed": true
   },
   "outputs": [],
   "source": [
    "traindata=pd.read_excel('ANNdataset (1).xlsx', sheet_name='Train')"
   ]
  },
  {
   "cell_type": "code",
   "execution_count": 18,
   "metadata": {
    "collapsed": true
   },
   "outputs": [],
   "source": [
    "traindata=traindata.dropna()\n",
    "from sklearn.model_selection import train_test_split\n",
    "train,test= train_test_split(traindata,test_size=0.3)"
   ]
  },
  {
   "cell_type": "code",
   "execution_count": 19,
   "metadata": {
    "collapsed": true
   },
   "outputs": [],
   "source": [
    "train_op = train['output']\n",
    "train_ip = train.drop(['output','education'],axis = 1)"
   ]
  },
  {
   "cell_type": "code",
   "execution_count": 20,
   "metadata": {
    "collapsed": true
   },
   "outputs": [],
   "source": [
    "test_op = test['output']\n",
    "test_ip = test.drop(['output','education'],axis = 1)"
   ]
  },
  {
   "cell_type": "code",
   "execution_count": 21,
   "metadata": {},
   "outputs": [
    {
     "data": {
      "text/plain": [
       "(21112, 13)"
      ]
     },
     "execution_count": 21,
     "metadata": {},
     "output_type": "execute_result"
    }
   ],
   "source": [
    "train_ip.shape"
   ]
  },
  {
   "cell_type": "markdown",
   "metadata": {},
   "source": [
    "# Got training and test dataset. Now we need to do one hot encoding on both train and test data inorder to change the categorical values to numercial values."
   ]
  },
  {
   "cell_type": "code",
   "execution_count": 22,
   "metadata": {
    "collapsed": true
   },
   "outputs": [],
   "source": [
    "train_nn_ip = pd.get_dummies(train_ip)\n",
    "test_nn_ip = pd.get_dummies(test_ip)"
   ]
  },
  {
   "cell_type": "code",
   "execution_count": 23,
   "metadata": {},
   "outputs": [
    {
     "name": "stdout",
     "output_type": "stream",
     "text": [
      "87\n"
     ]
    }
   ],
   "source": [
    "print(len(list(train_nn_ip.columns)))"
   ]
  },
  {
   "cell_type": "code",
   "execution_count": 24,
   "metadata": {},
   "outputs": [
    {
     "name": "stdout",
     "output_type": "stream",
     "text": [
      "87\n"
     ]
    }
   ],
   "source": [
    "print(len(list(test_nn_ip.columns)))"
   ]
  },
  {
   "cell_type": "markdown",
   "metadata": {},
   "source": [
    "# The dataset for training and testing is here. Now we need to normalise both train and test data to scale all the features."
   ]
  },
  {
   "cell_type": "code",
   "execution_count": 25,
   "metadata": {
    "collapsed": true
   },
   "outputs": [],
   "source": [
    "sc = StandardScaler()\n",
    "X_train = sc.fit_transform(train_nn_ip)\n",
    "X_test = sc.transform(test_nn_ip)"
   ]
  },
  {
   "cell_type": "code",
   "execution_count": 25,
   "metadata": {},
   "outputs": [
    {
     "name": "stderr",
     "output_type": "stream",
     "text": [
      "/Users/Siddarth/anaconda3/lib/python3.6/importlib/_bootstrap.py:219: RuntimeWarning: compiletime version 3.5 of module 'tensorflow.python.framework.fast_tensor_util' does not match runtime version 3.6\n",
      "  return f(*args, **kwds)\n",
      "/Users/Siddarth/anaconda3/lib/python3.6/site-packages/h5py/__init__.py:34: FutureWarning: Conversion of the second argument of issubdtype from `float` to `np.floating` is deprecated. In future, it will be treated as `np.float64 == np.dtype(float).type`.\n",
      "  from ._conv import register_converters as _register_converters\n"
     ]
    }
   ],
   "source": [
    "import tensorflow as tf\n",
    "from tensorflow import keras"
   ]
  },
  {
   "cell_type": "code",
   "execution_count": 26,
   "metadata": {
    "collapsed": true
   },
   "outputs": [],
   "source": [
    "model = keras.Sequential([keras.layers.Dense(174,input_dim=87,activation=tf.nn.sigmoid),keras.layers.Dense(1),])\n",
    "model.compile(optimizer='SGD',loss='mse',metrics=['accuracy'])\n",
    "model.fit(X_train,train_op,validation_data=(X_test,test_op),epochs=50)"
   ]
  },
  {
   "cell_type": "code",
   "execution_count": 36,
   "metadata": {},
   "outputs": [
    {
     "name": "stdout",
     "output_type": "stream",
     "text": [
      "9049/9049 [==============================] - 0s 22us/step\n",
      "[[6199  732]\n",
      " [ 604 1514]]\n"
     ]
    }
   ],
   "source": [
    "from sklearn.metrics import confusion_matrix,classification_report,accuracy_score\n",
    "pred  = model.predict(X_test, verbose=1)\n",
    "predictions = (pred > 0.5)\n",
    "labels = (test_op == 1)\n",
    "\n",
    "print(confusion_matrix(predictions,labels))\n"
   ]
  },
  {
   "cell_type": "code",
   "execution_count": null,
   "metadata": {},
   "outputs": [],
   "source": [
    "from keras import optimizers\n",
    "from keras.models import Sequential\n",
    "from keras.layers import Dense,Activation\n",
    "from keras.optimizers import SGD\n",
    "model1=keras.Sequential([keras.layers.Dense(174,input_dim=87,activation=tf.nn.sigmoid),keras.layers.Dense(1),])\n",
    "\n",
    "sgd = SGD(lr=0.5, decay=1e-6, momentum=0.0, nesterov=True)\n",
    "model1.compile(loss='mean_squared_error', optimizer='sgd')\n",
    "model1.fit(X_train,train_op,validation_data=(X_test,test_op),epochs=50)"
   ]
  },
  {
   "cell_type": "code",
   "execution_count": 97,
   "metadata": {},
   "outputs": [
    {
     "name": "stdout",
     "output_type": "stream",
     "text": [
      "9049/9049 [==============================] - 0s 48us/step\n",
      "[[6630 1325]\n",
      " [ 173  921]]\n"
     ]
    }
   ],
   "source": [
    "from sklearn.metrics import confusion_matrix,classification_report,accuracy_score\n",
    "pred  = model1.predict(X_test, verbose=1)\n",
    "predictions = (pred >= 0.5)\n",
    "labels = (test_op == 1)\n",
    "\n",
    "print(confusion_matrix(predictions,labels))"
   ]
  },
  {
   "cell_type": "code",
   "execution_count": null,
   "metadata": {},
   "outputs": [],
   "source": [
    "import keras\n",
    "import tensorflow as tf\n",
    "from keras import optimizers\n",
    "from keras.models import Sequential\n",
    "from keras.layers import Dense,Activation\n",
    "from keras.optimizers import SGD\n",
    "model2= keras.Sequential([keras.layers.Dense(174,input_dim=87,activation=tf.nn.sigmoid),keras.layers.Dense(1),])\n",
    "\n",
    "sgd = SGD(lr=0.3, decay=1e-6, momentum=0.0, nesterov=True)\n",
    "model2.compile(loss='mean_squared_error', optimizer='sgd')\n",
    "model2.fit(X_train,train_op,validation_data=(X_test,test_op),epochs=50)"
   ]
  },
  {
   "cell_type": "code",
   "execution_count": 29,
   "metadata": {},
   "outputs": [
    {
     "name": "stdout",
     "output_type": "stream",
     "text": [
      "9049/9049 [==============================] - 0s 22us/step\n",
      "[[6675 1585]\n",
      " [ 112  677]]\n"
     ]
    }
   ],
   "source": [
    "from sklearn.metrics import confusion_matrix,classification_report,accuracy_score\n",
    "pred  = model2.predict(X_test, verbose=1)\n",
    "predictions = (pred >= 0.5)\n",
    "labels = (test_op == 1)\n",
    "\n",
    "print(confusion_matrix(predictions,labels))"
   ]
  },
  {
   "cell_type": "code",
   "execution_count": null,
   "metadata": {},
   "outputs": [],
   "source": [
    "import keras\n",
    "import tensorflow as tf\n",
    "from keras import optimizers\n",
    "from keras.models import Sequential\n",
    "from keras.layers import Dense,Activation\n",
    "from keras.optimizers import SGD\n",
    "model3= keras.Sequential([keras.layers.Dense(174,input_dim=87,activation=tf.nn.sigmoid),keras.layers.Dense(1),])\n",
    "\n",
    "sgd = SGD(lr=1, decay=1e-6, momentum=0.0, nesterov=True)\n",
    "model3.compile(loss='mean_squared_error', optimizer='sgd')\n",
    "model3.fit(X_train,train_op,validation_data=(X_test,test_op),epochs=50)"
   ]
  },
  {
   "cell_type": "code",
   "execution_count": 36,
   "metadata": {},
   "outputs": [
    {
     "name": "stdout",
     "output_type": "stream",
     "text": [
      "9049/9049 [==============================] - 0s 26us/step\n",
      "[[6612 1378]\n",
      " [ 175  884]]\n"
     ]
    }
   ],
   "source": [
    "from sklearn.metrics import confusion_matrix,classification_report,accuracy_score\n",
    "pred  = model3.predict(X_test, verbose=1)\n",
    "predictions = (pred >= 0.5)\n",
    "labels = (test_op == 1)\n",
    "\n",
    "print(confusion_matrix(predictions,labels))"
   ]
  },
  {
   "cell_type": "code",
   "execution_count": null,
   "metadata": {
    "collapsed": true
   },
   "outputs": [],
   "source": []
  }
 ],
 "metadata": {
  "kernelspec": {
   "display_name": "Python 3",
   "language": "python",
   "name": "python3"
  },
  "language_info": {
   "codemirror_mode": {
    "name": "ipython",
    "version": 3
   },
   "file_extension": ".py",
   "mimetype": "text/x-python",
   "name": "python",
   "nbconvert_exporter": "python",
   "pygments_lexer": "ipython3",
   "version": "3.6.3"
  }
 },
 "nbformat": 4,
 "nbformat_minor": 2
}
